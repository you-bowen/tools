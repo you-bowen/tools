{
 "metadata": {
  "language_info": {
   "codemirror_mode": {
    "name": "ipython",
    "version": 3
   },
   "file_extension": ".py",
   "mimetype": "text/x-python",
   "name": "python",
   "nbconvert_exporter": "python",
   "pygments_lexer": "ipython3",
   "version": "3.8.5"
  },
  "orig_nbformat": 2,
  "kernelspec": {
   "name": "python385jvsc74a57bd0ecf5722fdaf1897a315d257d89d94520bfcaa453217d5becf09b39e73618b0de",
   "display_name": "Python 3.8.5 64-bit ('base': conda)"
  }
 },
 "nbformat": 4,
 "nbformat_minor": 2,
 "cells": [
  {
   "cell_type": "code",
   "execution_count": 124,
   "metadata": {},
   "outputs": [],
   "source": [
    "import cv2\n",
    "from PIL import Image\n",
    "show = Image.fromarray"
   ]
  },
  {
   "cell_type": "code",
   "execution_count": 125,
   "metadata": {},
   "outputs": [],
   "source": [
    "im = cv2.imread('pic.png')\n",
    "a4 = im[:,:9,0]\n",
    "a6 = im[:,9:18,0]\n",
    "a8 = im[:,18:27,0]\n",
    "# a0 = im[:,27:36,:]\n",
    "a0 = im[:,36:45,0]\n",
    "\n",
    "\n",
    "im = cv2.imread('pic (5).png')\n",
    "a5 = im[:,:9,0]\n",
    "a2 = im[:,9:18,0]\n",
    "a9 = im[:,36:45,0]\n",
    "\n",
    "\n",
    "im = cv2.imread('pic (6).png')\n",
    "a3 = im[:,:9,0]\n",
    "a1 = im[:,9:18,0]\n",
    "a7 = im[:,18:27,0]\n",
    "\n",
    "\n",
    "im = cv2.imread('pic (1).png')\n",
    "a6 = im[:,:9,0]\n",
    "nums = [a0,a1,a2,a3,a4,a5,a6,a7,a8,a9]"
   ]
  },
  {
   "cell_type": "code",
   "execution_count": 126,
   "metadata": {},
   "outputs": [],
   "source": [
    "def pps():\n",
    "    time.sleep(0.05)\n",
    "    img = cv2.imread(r'C:\\Users\\27564\\Downloads\\pic.png')\n",
    "    res = []\n",
    "    for i in range(5):\n",
    "        for j in range(10):\n",
    "            if img[:,i*9:(i+1)*9,0][nums[j]==0].sum() == 0:\n",
    "                res.append(str(j))\n",
    "\n",
    "    os.remove(r'C:\\Users\\27564\\Downloads\\pic.png')\n",
    "    pp.copy(''.join(res))\n",
    "    return ''.join(res)"
   ]
  },
  {
   "cell_type": "code",
   "execution_count": null,
   "metadata": {
    "tags": []
   },
   "outputs": [],
   "source": [
    "import os\n",
    "import pyperclip as pp\n",
    "import time\n",
    "while 1:\n",
    "    if not os.path.exists(r'C:\\Users\\27564\\Downloads\\pic.png'):\n",
    "        continue\n",
    "    else:\n",
    "        time.sleep(0.1)\n",
    "        img = cv2.imread(r'C:\\Users\\27564\\Downloads\\pic.png')\n",
    "        res = []\n",
    "        for i in range(5):\n",
    "            for j in range(10):\n",
    "                if img[:,i*9:(i+1)*9,0][nums[j]==0].sum() == 0:\n",
    "                    res.append(str(j))\n",
    "        if len(res) > 0:\n",
    "            os.remove(r'C:\\Users\\27564\\Downloads\\pic.png')\n",
    "            pp.copy(''.join(res))\n"
   ]
  },
  {
   "cell_type": "code",
   "execution_count": 1,
   "metadata": {},
   "outputs": [
    {
     "output_type": "error",
     "ename": "NameError",
     "evalue": "name 'nums' is not defined",
     "traceback": [
      "\u001b[1;31m---------------------------------------------------------------------------\u001b[0m",
      "\u001b[1;31mNameError\u001b[0m                                 Traceback (most recent call last)",
      "\u001b[1;32m<ipython-input-1-423005aba16c>\u001b[0m in \u001b[0;36m<module>\u001b[1;34m\u001b[0m\n\u001b[1;32m----> 1\u001b[1;33m \u001b[0mnums\u001b[0m\u001b[1;33m\u001b[0m\u001b[1;33m\u001b[0m\u001b[0m\n\u001b[0m",
      "\u001b[1;31mNameError\u001b[0m: name 'nums' is not defined"
     ]
    }
   ],
   "source": [
    "nums"
   ]
  },
  {
   "cell_type": "code",
   "execution_count": null,
   "metadata": {},
   "outputs": [],
   "source": []
  }
 ]
}